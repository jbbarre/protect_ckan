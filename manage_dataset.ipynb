{
 "metadata": {
  "language_info": {
   "codemirror_mode": {
    "name": "ipython",
    "version": 3
   },
   "file_extension": ".py",
   "mimetype": "text/x-python",
   "name": "python",
   "nbconvert_exporter": "python",
   "pygments_lexer": "ipython3",
   "version": "3.8.5-final"
  },
  "orig_nbformat": 2,
  "kernelspec": {
   "name": "python38564bit68a3e9c3f02a4c1db82ad444fa81b6f2",
   "display_name": "Python 3.8.5 64-bit",
   "language": "python"
  }
 },
 "nbformat": 4,
 "nbformat_minor": 2,
 "cells": [
  {
   "source": [
    "# Manage datasets \n",
    "using Ckan API to manage [Protect Data Portal] (https://data-protect-slr.univ-grenoble-alpes.fr/)\n",
    "\n",
    "Project: Protect SLR - JB Barré - 09/12/2020\n",
    "\n",
    "2 options:\n",
    "\n",
    "* Permanent : `dataset_purge(context, data_dict)`\n",
    "* Trash : `package_delete(context, data_dict)`\n",
    "\n",
    "\n"
   ],
   "cell_type": "markdown",
   "metadata": {}
  },
  {
   "cell_type": "code",
   "execution_count": 24,
   "metadata": {},
   "outputs": [],
   "source": [
    "\n",
    "from ckanapi import RemoteCKAN\n",
    "import requests\n",
    "\n",
    "session = requests.Session()\n",
    "session.verify = False\n",
    "\n",
    "protect = RemoteCKAN('https://data-protect-slr.univ-grenoble-alpes.fr/',\n",
    "    apikey='xxxxxxxxxxx',\n",
    "    user_agent='xxxxxxxxxxx',\n",
    "    session=session)\n"
   ]
  },
  {
   "source": [
    "### List of the current datasets"
   ],
   "cell_type": "markdown",
   "metadata": {}
  },
  {
   "cell_type": "code",
   "execution_count": 2,
   "metadata": {},
   "outputs": [
    {
     "output_type": "execute_result",
     "data": {
      "text/plain": [
       "['dataset-1', 'dataset-2', 'dataset-3', 'dataset-4']"
      ]
     },
     "metadata": {},
     "execution_count": 2
    }
   ],
   "source": [
    "protect.action.package_list()"
   ]
  },
  {
   "source": [
    "## Create Dataset"
   ],
   "cell_type": "markdown",
   "metadata": {}
  },
  {
   "cell_type": "code",
   "execution_count": 25,
   "metadata": {},
   "outputs": [],
   "source": [
    "# Mandatory parameters : 'name' and 'owner_org':\n",
    "#   01_cnrs,02_ubremen,03_uzh,04_nioz,05_ukri-bas,06_gcf,07_brgm,08_pik,\n",
    "#   09_uu,10_ulb,11_uleeds,12_ubris,13_dmi,14_vub,15_uliege,16_kcl,17_uswansea,\n",
    "#   18_asiaq,19_ethz,20_unn,21_dtu,22_awi,23_me,24_tud,25_knmi,26_uea\n",
    "\n",
    "#groups may be wp2,wp3,wp4wp,5,wp6 or wp7\n",
    "\n",
    "\n",
    "dataset_dict = {\n",
    "    'name':'dataset-4',\n",
    "    'owner_org': '01_cnrs',\n",
    "    'author':'',\n",
    "    'groups':[{'name':'wp2'}],\n",
    "    'notes': 'A long description of my dataset',\n",
    "    'private': False\n",
    "}\n",
    "\n",
    "protect.action.package_create(**dataset_dict)\n",
    "\n",
    "RemoteCKAN.close(protect)"
   ]
  },
  {
   "source": [
    "### Purge Datasets"
   ],
   "cell_type": "markdown",
   "metadata": {}
  },
  {
   "cell_type": "code",
   "execution_count": 16,
   "metadata": {},
   "outputs": [],
   "source": [
    "\n",
    "# Parameters: Id (name or Id)\n",
    "id = \"dataset-3\"\n",
    "\n",
    "# Purging a dataset cannot be undone!\n",
    "protect.action.dataset_purge(id = id)\n",
    "\n",
    "# or use the function package_delete to put the package in the trash\n",
    "# protect.action.package_delete(id = id)\n",
    "\n",
    "RemoteCKAN.close(protect)"
   ]
  },
  {
   "cell_type": "code",
   "execution_count": null,
   "metadata": {},
   "outputs": [],
   "source": []
  }
 ]
}
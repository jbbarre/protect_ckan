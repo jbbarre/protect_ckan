{
 "metadata": {
  "language_info": {
   "codemirror_mode": {
    "name": "ipython",
    "version": 3
   },
   "file_extension": ".py",
   "mimetype": "text/x-python",
   "name": "python",
   "nbconvert_exporter": "python",
   "pygments_lexer": "ipython3",
   "version": "3.8.5-final"
  },
  "orig_nbformat": 2,
  "kernelspec": {
   "name": "python38564bit68a3e9c3f02a4c1db82ad444fa81b6f2",
   "display_name": "Python 3.8.5 64-bit"
  }
 },
 "nbformat": 4,
 "nbformat_minor": 2,
 "cells": [
  {
   "source": [
    "# Manage datasets \n",
    "using Ckan API to manage [Protect Data Portal] (https://data-protect-slr.univ-grenoble-alpes.fr/)\n",
    "\n",
    "Project: Protect SLR - JB Barré - 09/12/2020\n",
    "\n",
    "2 options:\n",
    "\n",
    "* Permanent : `dataset_purge(context, data_dict)`\n",
    "* Trash : `package_delete(context, data_dict)`\n",
    "\n",
    "\n"
   ],
   "cell_type": "markdown",
   "metadata": {}
  },
  {
   "cell_type": "code",
   "execution_count": null,
   "metadata": {},
   "outputs": [],
   "source": [
    "\n",
    "from ckanapi import RemoteCKAN\n",
    "import requests\n",
    "\n",
    "session = requests.Session()\n",
    "session.verify = False\n",
    "\n",
    "protect = RemoteCKAN('https://data-protect-slr.univ-grenoble-alpes.fr/',\n",
    "    apikey='xxxxxxxxxxxxxxxxxxxxxx',\n",
    "    user_agent='xxxxxxxxxxxxxx',\n",
    "    session=session)"
   ]
  },
  {
   "source": [
    "### List of the current datasets"
   ],
   "cell_type": "markdown",
   "metadata": {}
  },
  {
   "cell_type": "code",
   "execution_count": null,
   "metadata": {},
   "outputs": [],
   "source": [
    "protect.action.package_list()"
   ]
  },
  {
   "source": [
    "### Purge Datasets"
   ],
   "cell_type": "markdown",
   "metadata": {}
  },
  {
   "cell_type": "code",
   "execution_count": null,
   "metadata": {},
   "outputs": [],
   "source": [
    "\n",
    "# Parameters: Id (name or Id)\n",
    "id = \"dataset-7\"\n",
    "\n",
    "# Purging a dataset cannot be undone!\n",
    "protect.action.dataset_purge(id = id)\n",
    "\n",
    "# or use the function package_delete to put the package in the trash\n",
    "# protect.action.package_delete(id = id)\n",
    "\n",
    "RemoteCKAN.close(protect)"
   ]
  },
  {
   "cell_type": "code",
   "execution_count": null,
   "metadata": {},
   "outputs": [],
   "source": []
  }
 ]
}

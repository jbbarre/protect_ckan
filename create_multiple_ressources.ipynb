{
 "metadata": {
  "language_info": {
   "codemirror_mode": {
    "name": "ipython",
    "version": 3
   },
   "file_extension": ".py",
   "mimetype": "text/x-python",
   "name": "python",
   "nbconvert_exporter": "python",
   "pygments_lexer": "ipython3",
   "version": "3.8.5-final"
  },
  "orig_nbformat": 2,
  "kernelspec": {
   "name": "python38564bit68a3e9c3f02a4c1db82ad444fa81b6f2",
   "display_name": "Python 3.8.5 64-bit",
   "language": "python"
  }
 },
 "nbformat": 4,
 "nbformat_minor": 2,
 "cells": [
  {
   "source": [
    "# Upload data/ressource to an existing Dataset\n",
    "Create new Dataset using Ckan API\n",
    "Project: Protect SLR - JB Barré - 9/12/2020\n"
   ],
   "cell_type": "markdown",
   "metadata": {}
  },
  {
   "cell_type": "code",
   "execution_count": 17,
   "metadata": {},
   "outputs": [],
   "source": [
    "from ckanapi import RemoteCKAN\n",
    "import requests\n",
    "from urllib.request import urlopen\n",
    "from zipfile import ZipFile\n",
    "import os\n",
    "\n",
    "session = requests.Session()\n",
    "session.verify = False\n",
    "\n",
    "protect = RemoteCKAN('https://data-protect-slr.univ-grenoble-alpes.fr/',\n",
    "    apikey='xxxxxxxxxxx',\n",
    "    user_agent='xxxxxxxxxxx',\n",
    "    session=session)\n",
    "\n"
   ]
  },
  {
   "source": [
    "## Specify the zip file path + explore and get the files to upload"
   ],
   "cell_type": "markdown",
   "metadata": {}
  },
  {
   "cell_type": "code",
   "execution_count": 18,
   "metadata": {},
   "outputs": [
    {
     "output_type": "stream",
     "name": "stdout",
     "text": [
      "['8341g68g1v7y.png', 'aquacross_theme.css', 'plot_zoom_png']\n"
     ]
    }
   ],
   "source": [
    "zip_path = '/path/to/folder/'\n",
    "zip_name = 'zipfile.zip'\n",
    "\n",
    "zip = ZipFile(zip_path+zip_name)\n",
    "zipped_files = zip.namelist()\n",
    "\n",
    "with ZipFile(zip_path+zip_name, 'r') as zip_ref:\n",
    "    zip_ref.extractall(zip_path)\n",
    "\n",
    "print(zipped_files)\n"
   ]
  },
  {
   "source": [
    "\n",
    "# Parameters: \n",
    "- package_id (string) – id of package that the resource should be added to.\n",
    "- url (string) – url of resource\n",
    "\n",
    "### Optionals:\n",
    "\n",
    "- description (string)\n",
    "- format (string)\n",
    "- hash (string)\n",
    "- name (string)\n",
    "- resource_type (string)\n",
    "- mimetype (string) – \n",
    "- mimetype_inner (string) – \n",
    "- cache_url (string) – \n",
    "- size (int) – \n",
    "- created (iso date string) – \n",
    "- last_modified (iso date string) – \n",
    "- cache_last_updated (iso date string) – \n",
    "- upload (FieldStorage  needs multipart/form-data) – \n",
    "\n",
    "#### tests avec http://ovh.net/files/\n",
    "- http://ovh.net/files/1Mio.dat\n",
    "- http://ovh.net/files/10Mio.dat\n",
    "- http://ovh.net/files/100Mio.dat\n",
    "- http://ovh.net/files/1Gio.dat\n",
    "- http://ovh.net/files/10Gio.dat\n",
    "\n"
   ],
   "cell_type": "markdown",
   "metadata": {}
  },
  {
   "source": [
    "## Upload multiple local files (On user computer)"
   ],
   "cell_type": "markdown",
   "metadata": {}
  },
  {
   "cell_type": "code",
   "execution_count": 19,
   "metadata": {},
   "outputs": [],
   "source": [
    "\n",
    "for fichier in zipped_files:\n",
    "    filename, file_extension = os.path.splitext(zip_path+fichier)\n",
    "    ressource_dict = {\n",
    "        'package_id':'dataset-4',\n",
    "        'upload': open(zip_path+fichier,'rb'), #for local file\n",
    "        'name': fichier,\n",
    "        'description':'upload depuis online file',\n",
    "        'format':file_extension.replace('.',''),\n",
    "        'notes': 'A long description of my dataset',\n",
    "        'url ':''\n",
    "    }\n",
    "\n",
    "    protect.action.resource_create(**ressource_dict)\n",
    "\n"
   ]
  },
  {
   "source": [
    "## Remove ressources from package"
   ],
   "cell_type": "markdown",
   "metadata": {}
  },
  {
   "cell_type": "code",
   "execution_count": null,
   "metadata": {},
   "outputs": [],
   "source": [
    "dataset = 'dataset-4'\n",
    "protect.action.resource_search(query =\"\")"
   ]
  },
  {
   "source": [
    "## Upload multiple online files (with URL)"
   ],
   "cell_type": "markdown",
   "metadata": {}
  },
  {
   "cell_type": "code",
   "execution_count": null,
   "metadata": {},
   "outputs": [],
   "source": [
    "url = 'http://ovh.net/files/1Mio.dat'\n",
    "upload = ('myfile.dat', urlopen(url))\n",
    "\n",
    "ressource_dict = {\n",
    "    'package_id':'dataset-6',\n",
    "    'upload': upload, # for online file\n",
    "    'name':'test_7',\n",
    "    'description':'upload depuis online file',\n",
    "    'format':'dat',\n",
    "    'notes': 'A long description of my dataset',\n",
    "    'url ':''\n",
    "}\n",
    "\n",
    "protect.action.resource_create(**ressource_dict)\n",
    "\n",
    "RemoteCKAN.close(protect)"
   ]
  }
 ]
}
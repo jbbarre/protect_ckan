{
 "metadata": {
  "language_info": {
   "codemirror_mode": {
    "name": "ipython",
    "version": 3
   },
   "file_extension": ".py",
   "mimetype": "text/x-python",
   "name": "python",
   "nbconvert_exporter": "python",
   "pygments_lexer": "ipython3",
   "version": "3.8.5-final"
  },
  "orig_nbformat": 2,
  "kernelspec": {
   "name": "python38564bit68a3e9c3f02a4c1db82ad444fa81b6f2",
   "display_name": "Python 3.8.5 64-bit",
   "language": "python"
  }
 },
 "nbformat": 4,
 "nbformat_minor": 2,
 "cells": [
  {
   "source": [
    "# Upload data/ressource to an existing Dataset\n",
    "Create new Dataset using Ckan API\n",
    "Project: Protect SLR - JB Barré - 9/12/2020\n"
   ],
   "cell_type": "markdown",
   "metadata": {}
  },
  {
   "cell_type": "code",
   "execution_count": null,
   "metadata": {},
   "outputs": [],
   "source": [
    "from ckanapi import RemoteCKAN\n",
    "import requests\n",
    "from urllib.request import urlopen\n",
    "\n",
    "session = requests.Session()\n",
    "session.verify = False\n",
    "\n",
    "protect = RemoteCKAN('https://data-protect-slr.univ-grenoble-alpes.fr/',\n",
    "    apikey='xxxxxxxxxxxxxxxxx',\n",
    "    user_agent='xxxxxxxxxxxxxx',\n",
    "    session=session)\n",
    "\n"
   ]
  },
  {
   "source": [
    "\n",
    "# Parameters: \n",
    "- package_id (string) – id of package that the resource should be added to.\n",
    "- url (string) – url of resource\n",
    "\n",
    "### Optionals:\n",
    "\n",
    "- description (string)\n",
    "- format (string)\n",
    "- hash (string)\n",
    "- name (string)\n",
    "- resource_type (string)\n",
    "- mimetype (string) – \n",
    "- mimetype_inner (string) – \n",
    "- cache_url (string) – \n",
    "- size (int) – \n",
    "- created (iso date string) – \n",
    "- last_modified (iso date string) – \n",
    "- cache_last_updated (iso date string) – \n",
    "- upload (FieldStorage  needs multipart/form-data) – \n",
    "\n",
    "#### tests avec http://ovh.net/files/\n",
    "- http://ovh.net/files/1Mio.dat\n",
    "- http://ovh.net/files/10Mio.dat\n",
    "- http://ovh.net/files/100Mio.dat\n",
    "- http://ovh.net/files/1Gio.dat\n",
    "- http://ovh.net/files/10Gio.dat\n",
    "\n"
   ],
   "cell_type": "markdown",
   "metadata": {}
  },
  {
   "source": [
    "## Upload a local file (On user computer)"
   ],
   "cell_type": "markdown",
   "metadata": {}
  },
  {
   "cell_type": "code",
   "execution_count": null,
   "metadata": {},
   "outputs": [],
   "source": [
    "\n",
    "ressource_dict = {\n",
    "    'package_id':'dataset-6',\n",
    "    'upload': open('/home/jbbarre/Bureau/aquacross_theme.css','rb'), #for local file\n",
    "    'name':'test_7',\n",
    "    'description':'upload depuis online file',\n",
    "    'format':'dat',\n",
    "    'notes': 'A long description of my dataset',\n",
    "    'url ':''\n",
    "}\n",
    "\n",
    "protect.action.resource_create(**ressource_dict)\n",
    "\n",
    "RemoteCKAN.close(protect)"
   ]
  },
  {
   "source": [
    "## Upload an online file (with URL)"
   ],
   "cell_type": "markdown",
   "metadata": {}
  },
  {
   "cell_type": "code",
   "execution_count": null,
   "metadata": {},
   "outputs": [],
   "source": [
    "url = 'http://ovh.net/files/1Mio.dat'\n",
    "upload = ('myfile.dat', urlopen(url))\n",
    "\n",
    "ressource_dict = {\n",
    "    'package_id':'dataset-6',\n",
    "    'upload': upload, # for online file\n",
    "    'name':'test_7',\n",
    "    'description':'upload depuis online file',\n",
    "    'format':'dat',\n",
    "    'notes': 'A long description of my dataset',\n",
    "    'url ':''\n",
    "}\n",
    "\n",
    "protect.action.resource_create(**ressource_dict)\n",
    "\n",
    "RemoteCKAN.close(protect)"
   ]
  },
  {
   "source": [
    "## Remove ressources from package"
   ],
   "cell_type": "markdown",
   "metadata": {}
  },
  {
   "cell_type": "code",
   "execution_count": 1,
   "metadata": {},
   "outputs": [
    {
     "output_type": "error",
     "ename": "NameError",
     "evalue": "name 'protect' is not defined",
     "traceback": [
      "\u001b[0;31m---------------------------------------------------------------------------\u001b[0m",
      "\u001b[0;31mNameError\u001b[0m                                 Traceback (most recent call last)",
      "\u001b[0;32m<ipython-input-1-b9b787e31256>\u001b[0m in \u001b[0;36m<module>\u001b[0;34m\u001b[0m\n\u001b[1;32m      3\u001b[0m }\n\u001b[1;32m      4\u001b[0m \u001b[0;34m\u001b[0m\u001b[0m\n\u001b[0;32m----> 5\u001b[0;31m \u001b[0mresource_list\u001b[0m \u001b[0;34m=\u001b[0m \u001b[0mprotect\u001b[0m\u001b[0;34m.\u001b[0m\u001b[0maction\u001b[0m\u001b[0;34m.\u001b[0m\u001b[0mpackage_show\u001b[0m\u001b[0;34m(\u001b[0m\u001b[0;34m**\u001b[0m\u001b[0mresource_dict\u001b[0m\u001b[0;34m)\u001b[0m\u001b[0;34m[\u001b[0m\u001b[0;34m'resources'\u001b[0m\u001b[0;34m]\u001b[0m\u001b[0;34m\u001b[0m\u001b[0;34m\u001b[0m\u001b[0m\n\u001b[0m\u001b[1;32m      6\u001b[0m \u001b[0;31m#print(resource_list)\u001b[0m\u001b[0;34m\u001b[0m\u001b[0;34m\u001b[0m\u001b[0;34m\u001b[0m\u001b[0m\n\u001b[1;32m      7\u001b[0m \u001b[0;32mfor\u001b[0m \u001b[0mvalue\u001b[0m \u001b[0;32min\u001b[0m \u001b[0mresource_list\u001b[0m\u001b[0;34m:\u001b[0m\u001b[0;34m\u001b[0m\u001b[0;34m\u001b[0m\u001b[0m\n",
      "\u001b[0;31mNameError\u001b[0m: name 'protect' is not defined"
     ]
    }
   ],
   "source": [
    "\n",
    "resource_dict = {\n",
    "    'id':'dataset_5'\n",
    "}\n",
    "\n",
    "resource_list = protect.action.package_show(**resource_dict)['resources']\n",
    "#print(resource_list)\n",
    "for value in resource_list:\n",
    "    print('id: ' + value['id'] + ' - name: ' + value['name'])"
   ]
  },
  {
   "cell_type": "code",
   "execution_count": null,
   "metadata": {},
   "outputs": [],
   "source": [
    "resource_id = {\n",
    "    'id':'3fb64cee-025c-4d54-b707-810697cc3968'\n",
    "}\n",
    "protect.action.resource_delete(**resource_id)"
   ]
  },
  {
   "cell_type": "code",
   "execution_count": null,
   "metadata": {},
   "outputs": [],
   "source": []
  }
 ]
}